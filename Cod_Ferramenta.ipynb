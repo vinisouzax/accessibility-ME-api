{
 "cells": [
  {
   "cell_type": "code",
   "execution_count": 1,
   "metadata": {},
   "outputs": [],
   "source": [
    "import xml.etree.ElementTree as ET\n",
    "import math\n",
    "ET.register_namespace('android', 'http://schemas.android.com/apk/res/android')"
   ]
  },
  {
   "cell_type": "code",
   "execution_count": 2,
   "metadata": {},
   "outputs": [],
   "source": [
    "erros = []\n",
    "componenteErros = []\n",
    "componenteIdErros = []"
   ]
  },
  {
   "cell_type": "code",
   "execution_count": 3,
   "metadata": {},
   "outputs": [],
   "source": [
    "#Guideline 1.1 Text Alternatives\n",
    "#1.1.1 Non-text Content\n",
    "#Level A\n",
    "#Não foi tratado label para cada input, pois não é necessário em aplicativos móveis\n",
    "\n",
    "def criterio111(element):\n",
    "    \n",
    "    #Imagens e botões com imagens com textos alternativos\n",
    "    #Imagens e botões com imagens com null em contentDescription\n",
    "    if element.tag == 'ImageView' or element.tag == 'ImageButton':\n",
    "        if '{http://schemas.android.com/apk/res/android}contentDescription' in element.attrib:\n",
    "            value = element.attrib['{http://schemas.android.com/apk/res/android}contentDescription']\n",
    "            if(value == '@null'):\n",
    "                componenteErros.append(ET.tostring(element, encoding='utf8').decode('utf8'))\n",
    "                if '{http://schemas.android.com/apk/res/android}id' in element.attrib:\n",
    "                    componenteIdErros.append(element.attrib['{http://schemas.android.com/apk/res/android}id'])\n",
    "                erros.append('1.1.1 - Conteúdo não textual')\n",
    "        else:\n",
    "            componenteErros.append(ET.tostring(element, encoding='utf8').decode('utf8'))\n",
    "            if '{http://schemas.android.com/apk/res/android}id' in element.attrib:\n",
    "                componenteIdErros.append(element.attrib['{http://schemas.android.com/apk/res/android}id'])\n",
    "            erros.append('1.1.1 - Conteúdo não textual')\n",
    "            \n",
    "    #Inputs de texto em formulários possuem texto descritivo\n",
    "    #Inputs de texto em formulários possuem texto descritivo não nulo\n",
    "    if element.tag == 'EditText':\n",
    "        if '{http://schemas.android.com/apk/res/android}hint' in element.attrib:\n",
    "            value = element.attrib['{http://schemas.android.com/apk/res/android}hint']\n",
    "            if(value == ''):\n",
    "                componenteErros.append(ET.tostring(element, encoding='utf8').decode('utf8'))\n",
    "                if '{http://schemas.android.com/apk/res/android}id' in element.attrib:\n",
    "                    componenteIdErros.append(element.attrib['{http://schemas.android.com/apk/res/android}id'])\n",
    "                erros.append('1.1.1 - Conteúdo não textual')\n",
    "        else:\n",
    "            componenteErros.append(ET.tostring(element, encoding='utf8').decode('utf8'))\n",
    "            if '{http://schemas.android.com/apk/res/android}id' in element.attrib:\n",
    "                componenteIdErros.append(element.attrib['{http://schemas.android.com/apk/res/android}id'])\n",
    "            erros.append('1.1.1 - Conteúdo não textual')\n",
    "            \n",
    "    #Botões em formulários possuem texto descritivo\n",
    "    #Botões em formulários possuem texto descritivo não nulo\n",
    "    if element.tag == 'Button' or element.tag == 'RadioButton' or element.tag == 'ToggleButton' or element.tag == 'FloatingActionButton':\n",
    "        if '{http://schemas.android.com/apk/res/android}text' in element.attrib:\n",
    "            value = element.attrib['{http://schemas.android.com/apk/res/android}text']\n",
    "            if(value == ''):\n",
    "                componenteErros.append(ET.tostring(element, encoding='utf8').decode('utf8'))\n",
    "                if '{http://schemas.android.com/apk/res/android}id' in element.attrib:\n",
    "                    componenteIdErros.append(element.attrib['{http://schemas.android.com/apk/res/android}id'])\n",
    "                erros.append('1.1.1 - Conteúdo não textual')\n",
    "        else:\n",
    "            componenteErros.append(ET.tostring(element, encoding='utf8').decode('utf8'))\n",
    "            if '{http://schemas.android.com/apk/res/android}id' in element.attrib:\n",
    "                componenteIdErros.append(element.attrib['{http://schemas.android.com/apk/res/android}id'])\n",
    "            erros.append('1.1.1 - Conteúdo não textual')"
   ]
  },
  {
   "cell_type": "code",
   "execution_count": 4,
   "metadata": {},
   "outputs": [],
   "source": [
    "#Guideline 1.4 Distinguível\n",
    "#1.4.3 Contraste Mínimo\n",
    "#Level AA\n",
    "\n",
    "def calc_luminanace(v):\n",
    "    v /= 255\n",
    "    return  (v / 12.92) if (v <= 0.03928) else (pow( (v + 0.055) / 1.055, 2.4 ));\n",
    "                \n",
    "def luminanace(r, g, b):\n",
    "    r = calc_luminanace(r)\n",
    "    g = calc_luminanace(g)\n",
    "    b = calc_luminanace(b)\n",
    "    return r * 0.2126 + g * 0.7152 + b * 0.0722\n",
    "\n",
    "def contrast(rgb1, rgb2):\n",
    "    lum1 = luminanace(rgb1[0], rgb1[1], rgb1[2])\n",
    "    lum2 = luminanace(rgb2[0], rgb2[1], rgb2[2])\n",
    "    brightest = max(lum1, lum2)\n",
    "    darkest = min(lum1, lum2)\n",
    "    return (brightest + 0.05) / (darkest + 0.05)\n",
    "\n",
    "def getArrayRGB(hexColor):\n",
    "    rgb = tuple(int(hexColor[i:i+2], 16) for i in (0, 2, 4))\n",
    "    array = []\n",
    "    array.append(rgb)\n",
    "    array = [x for xs in array for x in xs]\n",
    "    return array\n",
    "\n",
    "def criterio143(child, parent):\n",
    "    if '{http://schemas.android.com/apk/res/android}background' in child.attrib and '{http://schemas.android.com/apk/res/android}textColor' in child.attrib:\n",
    "        background = child.attrib['{http://schemas.android.com/apk/res/android}background'].lstrip('#')\n",
    "        textColor = child.attrib['{http://schemas.android.com/apk/res/android}textColor'].lstrip('#')\n",
    "        arrayB = getArrayRGB(background)\n",
    "        arrayT = getArrayRGB(textColor)\n",
    "        if contrast(arrayB, arrayT) < 4.5:\n",
    "            componenteErros.append(ET.tostring(child, encoding='utf8').decode('utf8'))\n",
    "            if '{http://schemas.android.com/apk/res/android}id' in child.attrib:\n",
    "                componenteIdErros.append(child.attrib['{http://schemas.android.com/apk/res/android}id'])\n",
    "            erros.append('1.4.3 - Contraste Mínimo')\n",
    "    elif '{http://schemas.android.com/apk/res/android}background' in parent.attrib and '{http://schemas.android.com/apk/res/android}textColor' in child.attrib:\n",
    "        background = parent.attrib['{http://schemas.android.com/apk/res/android}background'].lstrip('#')\n",
    "        textColor = child.attrib['{http://schemas.android.com/apk/res/android}textColor'].lstrip('#')\n",
    "        arrayB = getArrayRGB(background)\n",
    "        arrayT = getArrayRGB(textColor)\n",
    "        if contrast(arrayB, arrayT) < 4.5:\n",
    "            componenteErros.append(ET.tostring(child, encoding='utf8').decode('utf8'))\n",
    "            if '{http://schemas.android.com/apk/res/android}id' in child.attrib:\n",
    "                componenteIdErros.append(child.attrib['{http://schemas.android.com/apk/res/android}id'])\n",
    "            erros.append('1.4.3 - Contraste Mínimo')"
   ]
  },
  {
   "cell_type": "code",
   "execution_count": 5,
   "metadata": {},
   "outputs": [
    {
     "ename": "SyntaxError",
     "evalue": "unexpected EOF while parsing (<ipython-input-5-b69e30b76cfc>, line 1)",
     "output_type": "error",
     "traceback": [
      "\u001b[0;36m  File \u001b[0;32m\"<ipython-input-5-b69e30b76cfc>\"\u001b[0;36m, line \u001b[0;32m1\u001b[0m\n\u001b[0;31m    def criterio255(child, parent):\u001b[0m\n\u001b[0m                                   ^\u001b[0m\n\u001b[0;31mSyntaxError\u001b[0m\u001b[0;31m:\u001b[0m unexpected EOF while parsing\n"
     ]
    }
   ],
   "source": []
  },
  {
   "cell_type": "code",
   "execution_count": 7,
   "metadata": {},
   "outputs": [
    {
     "name": "stdout",
     "output_type": "stream",
     "text": [
      "['1.1.1 - Conteúdo não textual']\n",
      "['<?xml version=\\'1.0\\' encoding=\\'utf8\\'?>\\n<ImageView xmlns:android=\"http://schemas.android.com/apk/res/android\" android:contentDescription=\"@null\" android:layout_gravity=\"center_horizontal|top\" android:layout_height=\"wrap_content\" android:layout_marginBottom=\"-15dp\" android:layout_width=\"75dp\" android:src=\"@drawable/ic_camera_account_white_48dp\" />\\n\\n                ']\n",
      "[]\n"
     ]
    }
   ],
   "source": [
    "tree = ET.parse('activity_new_patient.xml')\n",
    "root = tree.getroot()\n",
    "erros = []\n",
    "componenteErros = []\n",
    "componenteIdErros = []\n",
    "parent_map = {c:p for p in tree.iter() for c in p}\n",
    "for c, p in parent_map.items():\n",
    "    criterio111(c)\n",
    "    criterio143(c, p)\n",
    "print(erros)\n",
    "print(componenteErros)\n",
    "print(componenteIdErros)"
   ]
  },
  {
   "cell_type": "code",
   "execution_count": 33,
   "metadata": {},
   "outputs": [
    {
     "data": {
      "text/plain": [
       "['RelativeLayout',\n",
       " 'ScrollView',\n",
       " 'LinearLayout',\n",
       " 'LinearLayout',\n",
       " 'ImageView',\n",
       " 'android.support.design.widget.TextInputLayout',\n",
       " 'EditText',\n",
       " 'android.support.design.widget.TextInputLayout',\n",
       " 'EditText',\n",
       " 'android.support.design.widget.TextInputLayout',\n",
       " 'EditText',\n",
       " 'android.support.design.widget.TextInputLayout',\n",
       " 'EditText',\n",
       " 'android.support.design.widget.TextInputLayout',\n",
       " 'EditText',\n",
       " 'RadioGroup',\n",
       " 'RadioButton',\n",
       " 'RadioButton',\n",
       " 'android.support.design.widget.TextInputLayout',\n",
       " 'EditText',\n",
       " 'android.support.design.widget.TextInputLayout',\n",
       " 'EditText',\n",
       " 'Button']"
      ]
     },
     "execution_count": 33,
     "metadata": {},
     "output_type": "execute_result"
    }
   ],
   "source": [
    "[elem.tag for elem in root.iter()]"
   ]
  },
  {
   "cell_type": "code",
   "execution_count": null,
   "metadata": {},
   "outputs": [],
   "source": [
    "print(ET.tostring(root, encoding='utf8').decode('utf8'))"
   ]
  },
  {
   "cell_type": "code",
   "execution_count": 22,
   "metadata": {},
   "outputs": [
    {
     "ename": "TypeError",
     "evalue": "initial_value must be str or None, not bytes",
     "output_type": "error",
     "traceback": [
      "\u001b[0;31m---------------------------------------------------------------------------\u001b[0m",
      "\u001b[0;31mTypeError\u001b[0m                                 Traceback (most recent call last)",
      "\u001b[0;32m<ipython-input-22-674f66571e0c>\u001b[0m in \u001b[0;36m<module>\u001b[0;34m\u001b[0m\n\u001b[1;32m      3\u001b[0m \u001b[0mtree\u001b[0m \u001b[0;34m=\u001b[0m \u001b[0metree\u001b[0m\u001b[0;34m.\u001b[0m\u001b[0mparse\u001b[0m\u001b[0;34m(\u001b[0m\u001b[0;34m\"activity_new_patient.xml\"\u001b[0m\u001b[0;34m)\u001b[0m\u001b[0;34m\u001b[0m\u001b[0;34m\u001b[0m\u001b[0m\n\u001b[1;32m      4\u001b[0m \u001b[0mtext\u001b[0m \u001b[0;34m=\u001b[0m \u001b[0metree\u001b[0m\u001b[0;34m.\u001b[0m\u001b[0mtostring\u001b[0m\u001b[0;34m(\u001b[0m\u001b[0mtree\u001b[0m\u001b[0;34m.\u001b[0m\u001b[0mgetroot\u001b[0m\u001b[0;34m(\u001b[0m\u001b[0;34m)\u001b[0m\u001b[0;34m)\u001b[0m\u001b[0;34m\u001b[0m\u001b[0;34m\u001b[0m\u001b[0m\n\u001b[0;32m----> 5\u001b[0;31m \u001b[0mf\u001b[0m \u001b[0;34m=\u001b[0m \u001b[0mStringIO\u001b[0m\u001b[0;34m(\u001b[0m\u001b[0mtext\u001b[0m\u001b[0;34m)\u001b[0m\u001b[0;34m\u001b[0m\u001b[0;34m\u001b[0m\u001b[0m\n\u001b[0m\u001b[1;32m      6\u001b[0m \u001b[0mcontext\u001b[0m \u001b[0;34m=\u001b[0m \u001b[0metree\u001b[0m\u001b[0;34m.\u001b[0m\u001b[0miterparse\u001b[0m\u001b[0;34m(\u001b[0m\u001b[0mf\u001b[0m\u001b[0;34m,\u001b[0m \u001b[0mevents\u001b[0m\u001b[0;34m=\u001b[0m\u001b[0;34m(\u001b[0m\u001b[0;34m\"start\"\u001b[0m\u001b[0;34m,\u001b[0m \u001b[0;34m\"end\"\u001b[0m\u001b[0;34m)\u001b[0m\u001b[0;34m,\u001b[0m \u001b[0mtag\u001b[0m\u001b[0;34m=\u001b[0m\u001b[0;34m\"element\"\u001b[0m\u001b[0;34m)\u001b[0m\u001b[0;34m\u001b[0m\u001b[0;34m\u001b[0m\u001b[0m\n\u001b[1;32m      7\u001b[0m \u001b[0;34m\u001b[0m\u001b[0m\n",
      "\u001b[0;31mTypeError\u001b[0m: initial_value must be str or None, not bytes"
     ]
    }
   ],
   "source": [
    "from lxml import etree\n",
    "from io import StringIO, BytesIO\n",
    "tree = etree.parse(\"activity_new_patient.xml\")\n",
    "text = etree.tostring(tree.getroot())\n",
    "f = StringIO(text)\n",
    "context = etree.iterparse(f, events=(\"start\", \"end\"), tag=\"element\")\n",
    "\n",
    "for action, elem in context:\n",
    "     print(\"%s: %s\" % (action, elem.tag))"
   ]
  },
  {
   "cell_type": "code",
   "execution_count": null,
   "metadata": {},
   "outputs": [],
   "source": [
    "def criterio111(root):\n",
    "    \n",
    "    #Imagens e botões com imagens com textos alternativos\n",
    "    #Imagens e botões com imagens com null em contentDescription\n",
    "    for child in root.iter('ImageView') or root.iter('ImageButton'):\n",
    "        if '{http://schemas.android.com/apk/res/android}contentDescription' in child.attrib:\n",
    "            value = child.attrib['{http://schemas.android.com/apk/res/android}contentDescription']\n",
    "            if(value == '@null'):\n",
    "                componenteErros.append(ET.tostring(child, encoding='utf8').decode('utf8'))\n",
    "                if '{http://schemas.android.com/apk/res/android}id' in child.attrib:\n",
    "                    componenteIdErros.append(child.attrib['{http://schemas.android.com/apk/res/android}id'])\n",
    "                erros.append('1.1.1 Non-text Content')\n",
    "        else:\n",
    "            componenteErros.append(ET.tostring(child, encoding='utf8').decode('utf8'))\n",
    "            if '{http://schemas.android.com/apk/res/android}id' in child.attrib:\n",
    "                componenteIdErros.append(child.attrib['{http://schemas.android.com/apk/res/android}id'])\n",
    "            erros.append('1.1.1 Non-text Content')\n",
    "            \n",
    "    #Inputs de texto em formulários possuem texto descritivo\n",
    "    #Inputs de texto em formulários possuem texto descritivo não nulo\n",
    "    for child in root.iter('EditText'):\n",
    "        if '{http://schemas.android.com/apk/res/android}hint' in child.attrib:\n",
    "            value = child.attrib['{http://schemas.android.com/apk/res/android}hint']\n",
    "            if(value == ''):\n",
    "                componenteErros.append(ET.tostring(child, encoding='utf8').decode('utf8'))\n",
    "                if '{http://schemas.android.com/apk/res/android}id' in child.attrib:\n",
    "                    componenteIdErros.append(child.attrib['{http://schemas.android.com/apk/res/android}id'])\n",
    "                erros.append('1.1.1 Non-text Content')\n",
    "        else:\n",
    "            componenteErros.append(ET.tostring(child, encoding='utf8').decode('utf8'))\n",
    "            if '{http://schemas.android.com/apk/res/android}id' in child.attrib:\n",
    "                componenteIdErros.append(child.attrib['{http://schemas.android.com/apk/res/android}id'])\n",
    "            erros.append('1.1.1 Non-text Content')\n",
    "            \n",
    "    #Botões em formulários possuem texto descritivo\n",
    "    #Botões em formulários possuem texto descritivo não nulo\n",
    "    for child in root.iter('Button') or root.iter('RadioButton') or root.iter('ToggleButton') or root.iter('FloatingActionButton'):\n",
    "        if '{http://schemas.android.com/apk/res/android}text' in child.attrib:\n",
    "            value = child.attrib['{http://schemas.android.com/apk/res/android}text']\n",
    "            if(value == ''):\n",
    "                componenteErros.append(ET.tostring(child, encoding='utf8').decode('utf8'))\n",
    "                if '{http://schemas.android.com/apk/res/android}id' in child.attrib:\n",
    "                    componenteIdErros.append(child.attrib['{http://schemas.android.com/apk/res/android}id'])\n",
    "                erros.append('1.1.1 Non-text Content')\n",
    "        else:\n",
    "            componenteErros.append(ET.tostring(child, encoding='utf8').decode('utf8'))\n",
    "            if '{http://schemas.android.com/apk/res/android}id' in child.attrib:\n",
    "                componenteIdErros.append(child.attrib['{http://schemas.android.com/apk/res/android}id'])\n",
    "            erros.append('1.1.1 Non-text Content')"
   ]
  },
  {
   "cell_type": "code",
   "execution_count": 13,
   "metadata": {},
   "outputs": [
    {
     "name": "stdout",
     "output_type": "stream",
     "text": [
      "Enter hex: #A8A8A8\n",
      "RGB = (168, 168, 168)\n"
     ]
    }
   ],
   "source": [
    "h = input('Enter hex: ').lstrip('#')\n",
    "print('RGB =', tuple(int(h[i:i+2], 16) for i in (0, 2, 4)))"
   ]
  },
  {
   "cell_type": "code",
   "execution_count": null,
   "metadata": {},
   "outputs": [],
   "source": []
  }
 ],
 "metadata": {
  "kernelspec": {
   "display_name": "Python 3",
   "language": "python",
   "name": "python3"
  },
  "language_info": {
   "codemirror_mode": {
    "name": "ipython",
    "version": 3
   },
   "file_extension": ".py",
   "mimetype": "text/x-python",
   "name": "python",
   "nbconvert_exporter": "python",
   "pygments_lexer": "ipython3",
   "version": "3.6.9"
  }
 },
 "nbformat": 4,
 "nbformat_minor": 2
}
